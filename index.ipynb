{
 "cells": [
  {
   "cell_type": "code",
   "execution_count": 16,
   "metadata": {},
   "outputs": [],
   "source": [
    "# Instalar e Importar bibliotecas\n",
    "\n",
    "# pip install requests2\n",
    "# pip install beautifulsoup4\n",
    "import requests\n",
    "from bs4 import BeautifulSoup"
   ]
  },
  {
   "cell_type": "code",
   "execution_count": 17,
   "metadata": {},
   "outputs": [
    {
     "name": "stdout",
     "output_type": "stream",
     "text": [
      "<Response [200]>\n",
      "<Response [200]>\n",
      "<Response [200]>\n"
     ]
    }
   ],
   "source": [
    "# Fazer a requisição da página\n",
    "url_seara = 'https://www.clubeextra.com.br/produto/387799?utm_campaign=LojaSeara%20-%20GOURMET&utm_medium=lett&utm_source=lett&utm_content=61'\n",
    "url_perdigao = 'https://www.clubeextra.com.br/produto/358147/mortadela-defumada-tradicional-ouro-fatiada-perdigao-200g'\n",
    "url_sadia = 'https://www.clubeextra.com.br/produto/327569/mortadela-defumada-fatiada-sadia-soltissimo-bandeja-200g'\n",
    "page_seara = requests.get(url_seara)\n",
    "page_perdigao = requests.get(url_perdigao)\n",
    "page_sadia = requests.get(url_sadia)\n",
    "print(page_seara)\n",
    "print(page_perdigao)\n",
    "print(page_sadia)"
   ]
  },
  {
   "cell_type": "code",
   "execution_count": 18,
   "metadata": {},
   "outputs": [],
   "source": [
    "# Armazenar o código do site convertido em uma variável \n",
    "site_seara = BeautifulSoup(page_seara.content, 'html.parser')\n",
    "site_sadia = BeautifulSoup(page_sadia.content, 'html.parser')\n",
    "site_perdigao = BeautifulSoup(page_perdigao.content, 'html.parser')"
   ]
  },
  {
   "cell_type": "code",
   "execution_count": 20,
   "metadata": {},
   "outputs": [],
   "source": [
    "# Inserir dentro de variáveis o código das tags que queremos\n",
    "produto_seara = site_seara.find('p', attrs={'class' : 'textstyles__TextComponent-w4b5ef-0 jBrKvw'})\n",
    "preco_seara = site_seara.find('div', attrs={'class' : 'seal-sale-box-divided__Value-pf7r6x-3 bgtGEw'})\n",
    "produto_perdigao = site_perdigao.find('p', attrs={'class' : 'textstyles__TextComponent-w4b5ef-0 jBrKvw'})\n",
    "preco_perdigao = site_perdigao.find('div', attrs={'class' : 'seal-sale-box-divided__Value-pf7r6x-3 bgtGEw'})\n",
    "produto_sadia = site_sadia.find('p', attrs={'class' : 'textstyles__TextComponent-w4b5ef-0 jBrKvw'})\n",
    "preco_sadia = site_sadia.find('div', attrs={'class' : 'seal-sale-box-divided__Value-pf7r6x-3 bgtGEw'})"
   ]
  },
  {
   "cell_type": "code",
   "execution_count": 22,
   "metadata": {},
   "outputs": [
    {
     "name": "stdout",
     "output_type": "stream",
     "text": [
      "Mortadela defumada fatiada Seara Gourmet 200g por R$5.84\n",
      "Mortadela Defumada Fatiada SADIA Soltíssimo Bandeja 200g por R$5.59\n",
      "Mortadela Defumada Tradicional Ouro Fatiada PERDIGÃO 200g por R$4.79\n"
     ]
    }
   ],
   "source": [
    "print(produto_seara.text, 'por', preco_seara.text)\n",
    "print(produto_sadia.text, 'por', preco_sadia.text)\n",
    "print(produto_perdigao.text, 'por', preco_perdigao.text)"
   ]
  }
 ],
 "metadata": {
  "interpreter": {
   "hash": "b3ba2566441a7c06988d0923437866b63cedc61552a5af99d1f4fb67d367b25f"
  },
  "kernelspec": {
   "display_name": "Python 3.8.8 64-bit ('base': conda)",
   "language": "python",
   "name": "python3"
  },
  "language_info": {
   "codemirror_mode": {
    "name": "ipython",
    "version": 3
   },
   "file_extension": ".py",
   "mimetype": "text/x-python",
   "name": "python",
   "nbconvert_exporter": "python",
   "pygments_lexer": "ipython3",
   "version": "3.8.8"
  },
  "orig_nbformat": 4
 },
 "nbformat": 4,
 "nbformat_minor": 2
}
