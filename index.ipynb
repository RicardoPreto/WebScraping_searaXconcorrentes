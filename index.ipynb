{
 "cells": [
  {
   "cell_type": "markdown",
   "metadata": {},
   "source": [
    "## Importação de bibliotecas"
   ]
  },
  {
   "cell_type": "code",
   "execution_count": 13,
   "metadata": {},
   "outputs": [],
   "source": [
    "# Instalar e Importar bibliotecas\n",
    "\n",
    "# pip install requests2\n",
    "# pip install beautifulsoup4\n",
    "import requests\n",
    "from bs4 import BeautifulSoup"
   ]
  },
  {
   "cell_type": "markdown",
   "metadata": {},
   "source": [
    "## Requisição de Páginas"
   ]
  },
  {
   "cell_type": "code",
   "execution_count": 86,
   "metadata": {},
   "outputs": [
    {
     "name": "stdout",
     "output_type": "stream",
     "text": [
      "<Response [200]>\n",
      "<Response [200]>\n",
      "<Response [200]>\n"
     ]
    }
   ],
   "source": [
    "# Fazer a requisição da página\n",
    "page_seara = requests.get('https://www.paodeacucar.com/produto/377214/mortadela-defumada-fatiada-seara-gourmet-200g')\n",
    "page_perdigao = requests.get('https://www.paodeacucar.com/produto/455529/mortadela-defumada-perdigao-ouro-200g')\n",
    "page_sadia = requests.get('https://www.paodeacucar.com/produto/304860/mortadela-defumada-fatiada-sadia-soltissimo-bandeja-200g')\n",
    "print(page_sadia)\n",
    "print(page_perdigao)\n",
    "print(page_sadia)"
   ]
  },
  {
   "cell_type": "markdown",
   "metadata": {},
   "source": [
    "# Armazenamento do código do site em uma variável"
   ]
  },
  {
   "cell_type": "code",
   "execution_count": 87,
   "metadata": {},
   "outputs": [],
   "source": [
    "# Armazenar o código do site convertido em uma variável \n",
    "site_seara = BeautifulSoup(page_seara.content, 'html.parser')\n",
    "site_sadia = BeautifulSoup(page_sadia.content, 'html.parser')\n",
    "site_perdigao = BeautifulSoup(page_perdigao.content, 'html.parser')"
   ]
  },
  {
   "cell_type": "markdown",
   "metadata": {},
   "source": [
    "## Extração dos dados que queremos e impressão da informação\n",
    "Ps: Se houver algum erro, não é erro no código, mas indisponibilidade do produto pra venda no site ou alteração no código."
   ]
  },
  {
   "cell_type": "code",
   "execution_count": 88,
   "metadata": {},
   "outputs": [
    {
     "name": "stdout",
     "output_type": "stream",
     "text": [
      "Mortadela defumada fatiada Seara Gourmet 200g por R$6.47\n"
     ]
    }
   ],
   "source": [
    "produto_seara = site_seara.find('p', attrs={'class' : 'textstyles__TextComponent-w4b5ef-0 jBrKvw'})\n",
    "preco_seara = site_seara.find('div', attrs={'class' : 'seal-sale-box-divided__Value-pf7r6x-3 bgtGEw'})\n",
    "preco_seara = preco_seara.text\n",
    "print(produto_seara.text, 'por', preco_seara)"
   ]
  },
  {
   "cell_type": "code",
   "execution_count": 89,
   "metadata": {},
   "outputs": [
    {
     "name": "stdout",
     "output_type": "stream",
     "text": [
      "Mortadela Defumada Perdigão Ouro 200g por R$7.59\n"
     ]
    }
   ],
   "source": [
    "produto_perdigao = site_perdigao.find('p', attrs={'class' : 'textstyles__TextComponent-w4b5ef-0 jBrKvw'})\n",
    "preco_perdigao = site_perdigao.find('div', attrs={'class' : 'seal-sale-box-divided__Value-pf7r6x-3 bgtGEw'})\n",
    "preco_perdigao = preco_perdigao.text\n",
    "print(produto_perdigao.text, 'por', preco_perdigao)"
   ]
  },
  {
   "cell_type": "code",
   "execution_count": 90,
   "metadata": {},
   "outputs": [
    {
     "name": "stdout",
     "output_type": "stream",
     "text": [
      "Mortadela Defumada Fatiada SADIA Soltíssimo Bandeja 200g por R$5.59\n"
     ]
    }
   ],
   "source": [
    "produto_sadia = site_sadia.find('p', attrs={'class' : 'textstyles__TextComponent-w4b5ef-0 jBrKvw'})\n",
    "preco_sadia = site_sadia.find('div', attrs={'class' : 'seal-sale-box-divided__Value-pf7r6x-3 bgtGEw'})\n",
    "preco_sadia = preco_sadia.text\n",
    "print(produto_sadia.text, 'por', preco_sadia)"
   ]
  },
  {
   "cell_type": "markdown",
   "metadata": {},
   "source": [
    "# Transformação dos Preços\n",
    "Vamos excluir o 'R$' dos preços e, depois, transformá-los em float"
   ]
  },
  {
   "cell_type": "code",
   "execution_count": 91,
   "metadata": {},
   "outputs": [
    {
     "name": "stdout",
     "output_type": "stream",
     "text": [
      "6.47\n",
      "7.59\n",
      "5.59\n"
     ]
    }
   ],
   "source": [
    "excluir = 'R$'   # Os caracteres que iremos excluir\n",
    "\n",
    "# Código para excluí-los\n",
    "    #Seara\n",
    "for x in range(len(excluir)):\n",
    "    preco_seara = preco_seara.replace(excluir[x],\"\")\n",
    "    # Perdigão\n",
    "for x in range(len(excluir)):\n",
    "    preco_perdigao = preco_perdigao.replace(excluir[x],\"\")\n",
    "    # Sadia\n",
    "for x in range(len(excluir)):\n",
    "    preco_sadia = preco_sadia.replace(excluir[x],\"\")\n",
    "\n",
    "# Checagem\n",
    "print(preco_seara)\n",
    "print(preco_perdigao)\n",
    "print(preco_sadia)"
   ]
  },
  {
   "cell_type": "code",
   "execution_count": 92,
   "metadata": {},
   "outputs": [],
   "source": [
    "# Tranformá-los em float\n",
    "preco_seara = float(preco_seara)\n",
    "preco_perdigao = float(preco_perdigao)\n",
    "preco_sadia = float(preco_sadia)"
   ]
  },
  {
   "cell_type": "markdown",
   "metadata": {},
   "source": [
    "# Armazenamento de Preços"
   ]
  },
  {
   "cell_type": "markdown",
   "metadata": {},
   "source": [
    "## Importação e instalação de bibliotecas"
   ]
  },
  {
   "cell_type": "code",
   "execution_count": 100,
   "metadata": {},
   "outputs": [],
   "source": [
    "# pip install pandas\n",
    "# pip install numpy\n",
    "import pandas as pd\n",
    "import numpy as np\n",
    "import csv"
   ]
  },
  {
   "cell_type": "markdown",
   "metadata": {},
   "source": [
    "## Criação da lista para armazenamento dos dados"
   ]
  },
  {
   "cell_type": "code",
   "execution_count": 96,
   "metadata": {},
   "outputs": [
    {
     "name": "stdout",
     "output_type": "stream",
     "text": [
      "['Mortadela defumada fatiada Seara Gourmet 200g', 'Mortadela Defumada Perdigão Ouro 200g', 'Mortadela Defumada Fatiada SADIA Soltíssimo Bandeja 200g']\n",
      "[6.47, 7.59, 5.59]\n",
      "['Seara', 'Perdigão', 'Sadia']\n"
     ]
    }
   ],
   "source": [
    "# Criar listas\n",
    "produto = [produto_seara.text, produto_perdigao.text, produto_sadia.text]\n",
    "preco = [preco_seara, preco_perdigao, preco_sadia]\n",
    "loja = ['Seara', 'Perdigão', 'Sadia']\n",
    "print(produto)\n",
    "print(preco)\n",
    "print(loja)"
   ]
  },
  {
   "cell_type": "markdown",
   "metadata": {},
   "source": [
    "## Transformar as listas em um DataFrame"
   ]
  },
  {
   "cell_type": "code",
   "execution_count": 98,
   "metadata": {},
   "outputs": [
    {
     "name": "stdout",
     "output_type": "stream",
     "text": [
      "                                             Produto  Preço      Loja\n",
      "0      Mortadela defumada fatiada Seara Gourmet 200g   6.47     Seara\n",
      "1              Mortadela Defumada Perdigão Ouro 200g   7.59  Perdigão\n",
      "2  Mortadela Defumada Fatiada SADIA Soltíssimo Ba...   5.59     Sadia\n"
     ]
    }
   ],
   "source": [
    "df = pd.DataFrame(list(zip(produto, preco, loja)), columns = ['Produto','Preço', 'Loja'])\n",
    "print(df)"
   ]
  },
  {
   "cell_type": "markdown",
   "metadata": {},
   "source": [
    "## Criação de arquivo CSV e armazenamento de informações\n",
    "IMPORTANTE: Só pode ser utilizado se o arquivo ainda não existir, ou seja, se ainda não foi salva nenhuma informação!"
   ]
  },
  {
   "cell_type": "code",
   "execution_count": 99,
   "metadata": {},
   "outputs": [],
   "source": [
    "# df.to_csv('historico_precos.csv', encoding='utf-8')"
   ]
  },
  {
   "cell_type": "markdown",
   "metadata": {},
   "source": [
    "## Atualização de Preço Diário"
   ]
  },
  {
   "cell_type": "code",
   "execution_count": 102,
   "metadata": {},
   "outputs": [],
   "source": [
    "# Abrir arquivo e colocá-lo em uma variável\n",
    "df.to_csv(\"historico_precos.csv\", mode='a', header=False)\n"
   ]
  }
 ],
 "metadata": {
  "interpreter": {
   "hash": "b3ba2566441a7c06988d0923437866b63cedc61552a5af99d1f4fb67d367b25f"
  },
  "kernelspec": {
   "display_name": "Python 3.8.8 64-bit ('base': conda)",
   "language": "python",
   "name": "python3"
  },
  "language_info": {
   "codemirror_mode": {
    "name": "ipython",
    "version": 3
   },
   "file_extension": ".py",
   "mimetype": "text/x-python",
   "name": "python",
   "nbconvert_exporter": "python",
   "pygments_lexer": "ipython3",
   "version": "3.8.8"
  },
  "orig_nbformat": 4
 },
 "nbformat": 4,
 "nbformat_minor": 2
}
