{
 "cells": [
  {
   "cell_type": "markdown",
   "metadata": {},
   "source": [
    "## Importação de bibliotecas"
   ]
  },
  {
   "cell_type": "code",
   "execution_count": 1,
   "metadata": {},
   "outputs": [],
   "source": [
    "# Instalar e Importar bibliotecas\n",
    "\n",
    "# pip install requests2\n",
    "# pip install beautifulsoup4\n",
    "import requests\n",
    "from bs4 import BeautifulSoup"
   ]
  },
  {
   "cell_type": "markdown",
   "metadata": {},
   "source": [
    "## Requisição de Páginas (Mortadela)"
   ]
  },
  {
   "cell_type": "code",
   "execution_count": 2,
   "metadata": {},
   "outputs": [
    {
     "name": "stdout",
     "output_type": "stream",
     "text": [
      "<Response [200]>\n",
      "<Response [200]>\n",
      "<Response [200]>\n"
     ]
    }
   ],
   "source": [
    "# Fazer a requisição da página\n",
    "page_seara = requests.get('https://www.paodeacucar.com/produto/377214/mortadela-defumada-fatiada-seara-gourmet-200g')\n",
    "page_perdigao = requests.get('https://www.paodeacucar.com/produto/455529/mortadela-defumada-perdigao-ouro-200g')\n",
    "page_sadia = requests.get('https://www.paodeacucar.com/produto/304860/mortadela-defumada-fatiada-sadia-soltissimo-bandeja-200g')\n",
    "print(page_seara)\n",
    "print(page_perdigao)\n",
    "print(page_sadia)"
   ]
  },
  {
   "cell_type": "markdown",
   "metadata": {},
   "source": [
    "## Requisição de Páginas (Linha Incrível)"
   ]
  },
  {
   "cell_type": "code",
   "execution_count": 3,
   "metadata": {},
   "outputs": [
    {
     "name": "stdout",
     "output_type": "stream",
     "text": [
      "<Response [200]>\n",
      "<Response [200]>\n",
      "<Response [200]>\n"
     ]
    }
   ],
   "source": [
    "# Fazer a requisição da página\n",
    "page_seara2 = requests.get('https://www.paodeacucar.com/produto/478817/hamburguer-de-ervilha-sabor-carne-seara-incrivel-226g')\n",
    "page_notburguer2 = requests.get('https://www.paodeacucar.com/produto/522768/hamburguer-de-carne-vegetal-not-burger-200g')\n",
    "page_sadia2 = requests.get('https://www.paodeacucar.com/produto/656487/hamburguer-vegetariano-sadia-veg---tal-pacote-226g')\n",
    "print(page_seara2)\n",
    "print(page_notburguer2)\n",
    "print(page_sadia2)"
   ]
  },
  {
   "cell_type": "code",
   "execution_count": 4,
   "metadata": {},
   "outputs": [
    {
     "name": "stdout",
     "output_type": "stream",
     "text": [
      "<Response [200]>\n",
      "<Response [200]>\n",
      "<Response [200]>\n",
      "<Response [200]>\n"
     ]
    }
   ],
   "source": [
    "## Requisição de Páginas (Doriana)\n",
    "page_doriana = requests.get('https://www.paodeacucar.com/produto/40689/margarina-com-sal-doriana-500g')\n",
    "page_qualy = requests.get('https://www.paodeacucar.com/produto/71812/margarina-cremosa-com-sal-qualy-pote-500g')\n",
    "page_vigor = requests.get('https://www.paodeacucar.com/produto/325338/margarina-sabor-manteiga-cremosa-com-sal-vigor-pote-500g')\n",
    "page_delicia = requests.get('https://www.paodeacucar.com/produto/100121/margarina-cremosa-delicia-com-sal-pote-500g')\n",
    "print(page_doriana)\n",
    "print(page_qualy)\n",
    "print(page_vigor)\n",
    "print(page_delicia)"
   ]
  },
  {
   "cell_type": "markdown",
   "metadata": {},
   "source": [
    "# Armazenamento do código do site em uma variável"
   ]
  },
  {
   "cell_type": "code",
   "execution_count": 5,
   "metadata": {},
   "outputs": [],
   "source": [
    "# Armazenar o código do site convertido em uma variável \n",
    "site_seara = BeautifulSoup(page_seara.content, 'html.parser')\n",
    "site_sadia = BeautifulSoup(page_sadia.content, 'html.parser')\n",
    "site_perdigao = BeautifulSoup(page_perdigao.content, 'html.parser')\n",
    "site_seara2 = BeautifulSoup(page_seara2.content, 'html.parser')\n",
    "site_sadia2 = BeautifulSoup(page_sadia2.content, 'html.parser')\n",
    "site_notburguer2 = BeautifulSoup(page_notburguer2.content, 'html.parser')\n",
    "site_doriana = BeautifulSoup(page_doriana.content, 'html.parser')\n",
    "site_qualy = BeautifulSoup(page_qualy.content, 'html.parser')\n",
    "site_vigor = BeautifulSoup(page_vigor.content, 'html.parser')\n",
    "site_delicia = BeautifulSoup(page_delicia.content, 'html.parser')"
   ]
  },
  {
   "cell_type": "markdown",
   "metadata": {},
   "source": [
    "## Extração dos dados que queremos e impressão da informação\n",
    "Ps: Se houver algum erro, não é erro no código, mas indisponibilidade do produto pra venda no site ou alteração no código."
   ]
  },
  {
   "cell_type": "code",
   "execution_count": 6,
   "metadata": {},
   "outputs": [
    {
     "name": "stdout",
     "output_type": "stream",
     "text": [
      "Mortadela defumada fatiada Seara Gourmet 200g por R$ 7,19\n"
     ]
    }
   ],
   "source": [
    "# Mortadela Seara\n",
    "produto_seara = site_seara.find('p', attrs={'class' : 'textstyles__TextComponent-w4b5ef-0 jBrKvw'})\n",
    "preco_seara = site_seara.find('p', attrs={'class' : 'textstyles__TextComponent-w4b5ef-0 btzlmx'})\n",
    "preco_seara = preco_seara.text\n",
    "# preco_seara = str(0.00)  # Usar em caso de erro no preço\n",
    "print(produto_seara.text, 'por', preco_seara)"
   ]
  },
  {
   "cell_type": "code",
   "execution_count": 7,
   "metadata": {},
   "outputs": [
    {
     "name": "stdout",
     "output_type": "stream",
     "text": [
      "Mortadela Defumada Perdigão Ouro 200g por R$ 7,99\n"
     ]
    }
   ],
   "source": [
    "# Mortadela Perdigão\n",
    "produto_perdigao = site_perdigao.find('p', attrs={'class' : 'textstyles__TextComponent-w4b5ef-0 jBrKvw'})\n",
    "preco_perdigao = site_perdigao.find('p', attrs={'class' : 'textstyles__TextComponent-w4b5ef-0 btzlmx'})\n",
    "preco_perdigao = preco_perdigao.text\n",
    "# preco_perdigao = str(0.00)  # Usar em caso de erro no preço\n",
    "print(produto_perdigao.text, 'por', preco_perdigao)"
   ]
  },
  {
   "cell_type": "code",
   "execution_count": 9,
   "metadata": {},
   "outputs": [
    {
     "name": "stdout",
     "output_type": "stream",
     "text": [
      "Mortadela Defumada Fatiada SADIA Soltíssimo Bandeja 200g por 0.0\n"
     ]
    }
   ],
   "source": [
    "# Mortadela Sadia\n",
    "produto_sadia = site_sadia.find('p', attrs={'class' : 'textstyles__TextComponent-w4b5ef-0 jBrKvw'})\n",
    "preco_sadia = site_sadia.find('div', attrs={'class' : 'seal-sale-box-divided__Value-pf7r6x-3 bgtGEw'})\n",
    "preco_sadia = preco_sadia.text\n",
    "#preco_sadia = str(0.00)  # Usar em caso de erro no preço\n",
    "print(produto_sadia.text, 'por', preco_sadia)"
   ]
  },
  {
   "cell_type": "code",
   "execution_count": 10,
   "metadata": {},
   "outputs": [
    {
     "name": "stdout",
     "output_type": "stream",
     "text": [
      "Hambúrguer De Ervilha Sabor Carne SEARA Incrível 226g por R$ 27,49\n"
     ]
    }
   ],
   "source": [
    "# Linha Incrível Seara\n",
    "produto_seara2 = site_seara2.find('p', attrs={'class' : 'textstyles__TextComponent-w4b5ef-0 jBrKvw'})\n",
    "preco_seara2 = site_seara2.find('p', attrs={'class' : 'textstyles__TextComponent-w4b5ef-0 btzlmx'})\n",
    "preco_seara2 = preco_seara2.text\n",
    "#preco_seara2 = str(0.00)  # Usar em caso de erro no preço\n",
    "print(produto_seara2.text, 'por', preco_seara2)"
   ]
  },
  {
   "cell_type": "code",
   "execution_count": 11,
   "metadata": {},
   "outputs": [
    {
     "name": "stdout",
     "output_type": "stream",
     "text": [
      "Hambúrguer de carne vegetal Not Burger 200g por R$ 18,90\n"
     ]
    }
   ],
   "source": [
    "# Not Burguer NotCo\n",
    "produto_notburguer2 = site_notburguer2.find('p', attrs={'class' : 'textstyles__TextComponent-w4b5ef-0 jBrKvw'})\n",
    "preco_notburguer2 = site_notburguer2.find('p', attrs={'class' : 'textstyles__TextComponent-w4b5ef-0 btzlmx'})\n",
    "preco_notburguer2 = preco_notburguer2.text\n",
    "# preco_notburguer2 = str(0.00)  # Usar em caso de erro no preço\n",
    "print(produto_notburguer2.text, 'por', preco_notburguer2)"
   ]
  },
  {
   "cell_type": "code",
   "execution_count": 13,
   "metadata": {},
   "outputs": [
    {
     "name": "stdout",
     "output_type": "stream",
     "text": [
      "Hambúrguer Vegetariano SADIA Veg & Tal Pacote 226g por 0.0\n"
     ]
    }
   ],
   "source": [
    "# Hamburguer Veg Sadia\n",
    "produto_sadia2 = site_sadia2.find('p', attrs={'class' : 'textstyles__TextComponent-w4b5ef-0 jBrKvw'})\n",
    "preco_sadia2 = site_sadia2.find('p', attrs={'class' : 'textstyles__TextComponent-w4b5ef-0 btzlmx'})\n",
    "preco_sadia2 = preco_sadia2.text\n",
    "#preco_sadia2 = str(0.00)  # Usar em caso de erro no preço\n",
    "print(produto_sadia2.text, 'por', preco_sadia2)"
   ]
  },
  {
   "cell_type": "code",
   "execution_count": 14,
   "metadata": {},
   "outputs": [
    {
     "name": "stdout",
     "output_type": "stream",
     "text": [
      "Margarina com sal Doriana 500g por R$ 7,29\n"
     ]
    }
   ],
   "source": [
    "# Margarina doriana\n",
    "produto_doriana = site_doriana.find('p', attrs={'class' : 'textstyles__TextComponent-w4b5ef-0 jBrKvw'})\n",
    "preco_doriana = site_doriana.find('p', attrs={'class' : 'textstyles__TextComponent-w4b5ef-0 btzlmx'})\n",
    "preco_doriana = preco_doriana.text\n",
    "#preco_doriana = str(0.00)  # Usar em caso de erro no preço\n",
    "print(produto_doriana.text, 'por', preco_doriana)"
   ]
  },
  {
   "cell_type": "code",
   "execution_count": 15,
   "metadata": {},
   "outputs": [
    {
     "name": "stdout",
     "output_type": "stream",
     "text": [
      "Margarina Cremosa com Sal QUALY Pote 500g por R$ 8,99\n"
     ]
    }
   ],
   "source": [
    "# Margarina qualy\n",
    "produto_qualy = site_qualy.find('p', attrs={'class' : 'textstyles__TextComponent-w4b5ef-0 jBrKvw'})\n",
    "preco_qualy = site_qualy.find('p', attrs={'class' : 'textstyles__TextComponent-w4b5ef-0 btzlmx'})\n",
    "preco_qualy = preco_qualy.text\n",
    "#preco_qualy = str(0.00)  # Usar em caso de erro no preço\n",
    "print(produto_qualy.text, 'por', preco_qualy)"
   ]
  },
  {
   "cell_type": "code",
   "execution_count": 17,
   "metadata": {},
   "outputs": [
    {
     "name": "stdout",
     "output_type": "stream",
     "text": [
      "Margarina Sabor Manteiga Cremosa com Sal VIGOR Pote 500g por R$ 8,59\n"
     ]
    }
   ],
   "source": [
    "# Margarina vigor\n",
    "produto_vigor = site_vigor.find('p', attrs={'class' : 'textstyles__TextComponent-w4b5ef-0 jBrKvw'})\n",
    "preco_vigor = site_vigor.find('p', attrs={'class' : 'textstyles__TextComponent-w4b5ef-0 btzlmx'})\n",
    "preco_vigor = preco_vigor.text\n",
    "#preco_vigor = str(0.00)  # Usar em caso de erro no preço\n",
    "print(produto_vigor.text, 'por', preco_vigor)"
   ]
  },
  {
   "cell_type": "code",
   "execution_count": 18,
   "metadata": {},
   "outputs": [
    {
     "name": "stdout",
     "output_type": "stream",
     "text": [
      "Margarina Cremosa DELÍCIA Com Sal Pote 500g por R$ 7,99\n"
     ]
    }
   ],
   "source": [
    "# Margarina delícia\n",
    "produto_delicia = site_delicia.find('p', attrs={'class' : 'textstyles__TextComponent-w4b5ef-0 jBrKvw'})\n",
    "preco_delicia = site_delicia.find('p', attrs={'class' : 'textstyles__TextComponent-w4b5ef-0 btzlmx'})\n",
    "preco_delicia = preco_delicia.text\n",
    "#preco_delicia = str(0.00)  # Usar em caso de erro no preço\n",
    "print(produto_delicia.text, 'por', preco_delicia)"
   ]
  },
  {
   "cell_type": "markdown",
   "metadata": {},
   "source": [
    "# Transformação dos Preços\n",
    "Vamos excluir o 'R$' dos preços, alterar vírgula por ponto e, depois, transformá-los em float"
   ]
  },
  {
   "cell_type": "code",
   "execution_count": 19,
   "metadata": {},
   "outputs": [
    {
     "name": "stdout",
     "output_type": "stream",
     "text": [
      "7.19\n",
      "7.99\n",
      "0.0\n",
      "27.49\n",
      "18.90\n",
      "0.0\n",
      "7.29\n",
      "8.99\n",
      "8.59\n",
      "7.99\n"
     ]
    }
   ],
   "source": [
    "excluir = 'R$ '   # Os caracteres que iremos excluir\n",
    "virg = ',' # Caractere que iremos alterar\n",
    "\n",
    "# Código para excluí-los\n",
    "    #Seara\n",
    "for x in range(len(excluir)):  #Excluir o R$\n",
    "    preco_seara = preco_seara.replace(excluir[x],\"\")\n",
    "for x in range(len(virg)): # Trocar a vírgula por ponto\n",
    "    preco_seara = preco_seara.replace(virg[x],\".\")\n",
    "    # Perdigão\n",
    "for x in range(len(excluir)): #Excluir o R$\n",
    "    preco_perdigao = preco_perdigao.replace(excluir[x],\"\")\n",
    "for x in range(len(virg)): # Trocar a vírgula por ponto\n",
    "    preco_perdigao = preco_perdigao.replace(virg[x],\".\")\n",
    "    # Sadia\n",
    "for x in range(len(excluir)): #Excluir o R$\n",
    "    preco_sadia = preco_sadia.replace(excluir[x],\"\")\n",
    "for x in range(len(virg)): # Trocar a vírgula por ponto\n",
    "    preco_sadia = preco_sadia.replace(virg[x],\".\")\n",
    "    # Sadia\n",
    "for x in range(len(excluir)): #Excluir o R$\n",
    "    preco_sadia2 = preco_sadia2.replace(excluir[x],\"\")\n",
    "for x in range(len(virg)): # Trocar a vírgula por ponto\n",
    "    preco_sadia2 = preco_sadia2.replace(virg[x],\".\")\n",
    "    # Seara\n",
    "for x in range(len(excluir)): #Excluir o R$\n",
    "    preco_seara2 = preco_seara2.replace(excluir[x],\"\")\n",
    "for x in range(len(virg)): # Trocar a vírgula por ponto\n",
    "    preco_seara2 = preco_seara2.replace(virg[x],\".\")\n",
    "    # NotCo\n",
    "for x in range(len(excluir)): #Excluir o R$\n",
    "    preco_notburguer2 = preco_notburguer2.replace(excluir[x],\"\")\n",
    "for x in range(len(virg)): # Trocar a vírgula por ponto\n",
    "    preco_notburguer2 = preco_notburguer2.replace(virg[x],\".\")\n",
    "    # Doriana\n",
    "for x in range(len(excluir)): #Excluir o R$\n",
    "    preco_doriana = preco_doriana.replace(excluir[x],\"\")\n",
    "for x in range(len(virg)): # Trocar a vírgula por ponto\n",
    "    preco_doriana = preco_doriana.replace(virg[x],\".\")\n",
    "    # Qualy\n",
    "for x in range(len(excluir)): #Excluir o R$\n",
    "    preco_qualy = preco_qualy.replace(excluir[x],\"\")\n",
    "for x in range(len(virg)): # Trocar a vírgula por ponto\n",
    "    preco_qualy = preco_qualy.replace(virg[x],\".\")\n",
    "    # Vigor\n",
    "for x in range(len(excluir)): #Excluir o R$\n",
    "    preco_vigor = preco_vigor.replace(excluir[x],\"\")\n",
    "for x in range(len(virg)): # Trocar a vírgula por ponto\n",
    "    preco_vigor = preco_vigor.replace(virg[x],\".\")\n",
    "    # delícia\n",
    "for x in range(len(excluir)): #Excluir o R$\n",
    "    preco_delicia = preco_delicia.replace(excluir[x],\"\")\n",
    "for x in range(len(virg)): # Trocar a vírgula por ponto\n",
    "    preco_delicia = preco_delicia.replace(virg[x],\".\")\n",
    "\n",
    "# Checagem\n",
    "print(preco_seara)\n",
    "print(preco_perdigao)\n",
    "print(preco_sadia)\n",
    "print(preco_seara2)\n",
    "print(preco_notburguer2)\n",
    "print(preco_sadia2)\n",
    "print(preco_doriana)\n",
    "print(preco_qualy)\n",
    "print(preco_vigor)\n",
    "print(preco_delicia)"
   ]
  },
  {
   "cell_type": "code",
   "execution_count": 20,
   "metadata": {},
   "outputs": [],
   "source": [
    "# Tranformá-los em float\n",
    "preco_seara = float(preco_seara)\n",
    "preco_perdigao = float(preco_perdigao)\n",
    "preco_sadia = float(preco_sadia)\n",
    "preco_seara2 = float(preco_seara2)\n",
    "preco_notburguer2 = float(preco_notburguer2)\n",
    "preco_sadia2 = float(preco_sadia2)\n",
    "preco_doriana = float(preco_doriana)\n",
    "preco_qualy = float(preco_qualy)\n",
    "preco_vigor = float(preco_vigor)\n",
    "preco_delicia = float(preco_delicia)"
   ]
  },
  {
   "cell_type": "markdown",
   "metadata": {},
   "source": [
    "# Armazenamento de Preços"
   ]
  },
  {
   "cell_type": "markdown",
   "metadata": {},
   "source": [
    "## Importação e instalação de bibliotecas"
   ]
  },
  {
   "cell_type": "code",
   "execution_count": 21,
   "metadata": {},
   "outputs": [],
   "source": [
    "# pip install pandas\n",
    "# pip install numpy\n",
    "import pandas as pd\n",
    "import numpy as np\n",
    "import csv\n",
    "import datetime"
   ]
  },
  {
   "cell_type": "markdown",
   "metadata": {},
   "source": [
    "## Criação da lista para armazenamento dos dados"
   ]
  },
  {
   "cell_type": "code",
   "execution_count": 22,
   "metadata": {},
   "outputs": [
    {
     "data": {
      "text/plain": [
       "'22-12-2021'"
      ]
     },
     "execution_count": 22,
     "metadata": {},
     "output_type": "execute_result"
    }
   ],
   "source": [
    "# Pegando a data de hoje e adicionando em uma variável\n",
    "hoje = datetime.datetime.now()  # Trazendo a data atual para a variável\n",
    "hoje = hoje.strftime('%d-%m-%Y') # Transformando a data de hoje pro formato que queremos\n",
    "hoje # Checagem"
   ]
  },
  {
   "cell_type": "code",
   "execution_count": 23,
   "metadata": {},
   "outputs": [
    {
     "name": "stdout",
     "output_type": "stream",
     "text": [
      "['Mortadela defumada fatiada Seara Gourmet 200g', 'Mortadela Defumada Perdigão Ouro 200g', 'Mortadela Defumada Fatiada SADIA Soltíssimo Bandeja 200g', 'Hambúrguer Vegetariano SADIA Veg & Tal Pacote 226g', 'Hambúrguer De Ervilha Sabor Carne SEARA Incrível 226g', 'Hambúrguer de carne vegetal Not Burger 200g', 'Margarina com sal Doriana 500g', 'Margarina Cremosa com Sal QUALY Pote 500g', 'Margarina Sabor Manteiga Cremosa com Sal VIGOR Pote 500g', 'Margarina Cremosa DELÍCIA Com Sal Pote 500g']\n",
      "[7.19, 7.99, 0.0, 0.0, 27.49, 18.9, 7.29, 8.99, 8.59, 7.99]\n",
      "['Seara', 'Perdigão', 'Sadia', 'Sadia', 'Seara', 'NotCo', 'Doriana', 'Qualy', 'Vigor', 'Delícia']\n",
      "['22-12-2021', '22-12-2021', '22-12-2021', '22-12-2021', '22-12-2021', '22-12-2021', '22-12-2021', '22-12-2021', '22-12-2021', '22-12-2021']\n"
     ]
    }
   ],
   "source": [
    "# Criar listas\n",
    "produto = [produto_seara.text, produto_perdigao.text, produto_sadia.text, produto_sadia2.text, produto_seara2.text, produto_notburguer2.text, produto_doriana.text, produto_qualy.text, produto_vigor.text, produto_delicia.text]\n",
    "preco = [preco_seara, preco_perdigao, preco_sadia, preco_sadia2, preco_seara2, preco_notburguer2, preco_doriana, preco_qualy, preco_vigor, preco_delicia]\n",
    "marca = ['Seara', 'Perdigão', 'Sadia', 'Sadia', 'Seara', 'NotCo', 'Doriana', 'Qualy', 'Vigor', 'Delícia']\n",
    "data = [hoje, hoje, hoje, hoje, hoje, hoje, hoje, hoje, hoje, hoje]\n",
    "\n",
    "# Checagem\n",
    "print(produto)\n",
    "print(preco)\n",
    "print(marca)\n",
    "print(data)"
   ]
  },
  {
   "cell_type": "markdown",
   "metadata": {},
   "source": [
    "## Transformar as listas em um DataFrame"
   ]
  },
  {
   "cell_type": "code",
   "execution_count": 24,
   "metadata": {},
   "outputs": [
    {
     "data": {
      "text/html": [
       "<div>\n",
       "<style scoped>\n",
       "    .dataframe tbody tr th:only-of-type {\n",
       "        vertical-align: middle;\n",
       "    }\n",
       "\n",
       "    .dataframe tbody tr th {\n",
       "        vertical-align: top;\n",
       "    }\n",
       "\n",
       "    .dataframe thead th {\n",
       "        text-align: right;\n",
       "    }\n",
       "</style>\n",
       "<table border=\"1\" class=\"dataframe\">\n",
       "  <thead>\n",
       "    <tr style=\"text-align: right;\">\n",
       "      <th></th>\n",
       "      <th>Data</th>\n",
       "      <th>Produto</th>\n",
       "      <th>Preço</th>\n",
       "      <th>Marca</th>\n",
       "    </tr>\n",
       "  </thead>\n",
       "  <tbody>\n",
       "    <tr>\n",
       "      <th>0</th>\n",
       "      <td>22-12-2021</td>\n",
       "      <td>Mortadela defumada fatiada Seara Gourmet 200g</td>\n",
       "      <td>7.19</td>\n",
       "      <td>Seara</td>\n",
       "    </tr>\n",
       "    <tr>\n",
       "      <th>1</th>\n",
       "      <td>22-12-2021</td>\n",
       "      <td>Mortadela Defumada Perdigão Ouro 200g</td>\n",
       "      <td>7.99</td>\n",
       "      <td>Perdigão</td>\n",
       "    </tr>\n",
       "    <tr>\n",
       "      <th>2</th>\n",
       "      <td>22-12-2021</td>\n",
       "      <td>Mortadela Defumada Fatiada SADIA Soltíssimo Ba...</td>\n",
       "      <td>0.00</td>\n",
       "      <td>Sadia</td>\n",
       "    </tr>\n",
       "    <tr>\n",
       "      <th>3</th>\n",
       "      <td>22-12-2021</td>\n",
       "      <td>Hambúrguer Vegetariano SADIA Veg &amp; Tal Pacote ...</td>\n",
       "      <td>0.00</td>\n",
       "      <td>Sadia</td>\n",
       "    </tr>\n",
       "    <tr>\n",
       "      <th>4</th>\n",
       "      <td>22-12-2021</td>\n",
       "      <td>Hambúrguer De Ervilha Sabor Carne SEARA Incrív...</td>\n",
       "      <td>27.49</td>\n",
       "      <td>Seara</td>\n",
       "    </tr>\n",
       "    <tr>\n",
       "      <th>5</th>\n",
       "      <td>22-12-2021</td>\n",
       "      <td>Hambúrguer de carne vegetal Not Burger 200g</td>\n",
       "      <td>18.90</td>\n",
       "      <td>NotCo</td>\n",
       "    </tr>\n",
       "    <tr>\n",
       "      <th>6</th>\n",
       "      <td>22-12-2021</td>\n",
       "      <td>Margarina com sal Doriana 500g</td>\n",
       "      <td>7.29</td>\n",
       "      <td>Doriana</td>\n",
       "    </tr>\n",
       "    <tr>\n",
       "      <th>7</th>\n",
       "      <td>22-12-2021</td>\n",
       "      <td>Margarina Cremosa com Sal QUALY Pote 500g</td>\n",
       "      <td>8.99</td>\n",
       "      <td>Qualy</td>\n",
       "    </tr>\n",
       "    <tr>\n",
       "      <th>8</th>\n",
       "      <td>22-12-2021</td>\n",
       "      <td>Margarina Sabor Manteiga Cremosa com Sal VIGOR...</td>\n",
       "      <td>8.59</td>\n",
       "      <td>Vigor</td>\n",
       "    </tr>\n",
       "    <tr>\n",
       "      <th>9</th>\n",
       "      <td>22-12-2021</td>\n",
       "      <td>Margarina Cremosa DELÍCIA Com Sal Pote 500g</td>\n",
       "      <td>7.99</td>\n",
       "      <td>Delícia</td>\n",
       "    </tr>\n",
       "  </tbody>\n",
       "</table>\n",
       "</div>"
      ],
      "text/plain": [
       "         Data                                            Produto  Preço  \\\n",
       "0  22-12-2021      Mortadela defumada fatiada Seara Gourmet 200g   7.19   \n",
       "1  22-12-2021              Mortadela Defumada Perdigão Ouro 200g   7.99   \n",
       "2  22-12-2021  Mortadela Defumada Fatiada SADIA Soltíssimo Ba...   0.00   \n",
       "3  22-12-2021  Hambúrguer Vegetariano SADIA Veg & Tal Pacote ...   0.00   \n",
       "4  22-12-2021  Hambúrguer De Ervilha Sabor Carne SEARA Incrív...  27.49   \n",
       "5  22-12-2021        Hambúrguer de carne vegetal Not Burger 200g  18.90   \n",
       "6  22-12-2021                     Margarina com sal Doriana 500g   7.29   \n",
       "7  22-12-2021          Margarina Cremosa com Sal QUALY Pote 500g   8.99   \n",
       "8  22-12-2021  Margarina Sabor Manteiga Cremosa com Sal VIGOR...   8.59   \n",
       "9  22-12-2021        Margarina Cremosa DELÍCIA Com Sal Pote 500g   7.99   \n",
       "\n",
       "      Marca  \n",
       "0     Seara  \n",
       "1  Perdigão  \n",
       "2     Sadia  \n",
       "3     Sadia  \n",
       "4     Seara  \n",
       "5     NotCo  \n",
       "6   Doriana  \n",
       "7     Qualy  \n",
       "8     Vigor  \n",
       "9   Delícia  "
      ]
     },
     "execution_count": 24,
     "metadata": {},
     "output_type": "execute_result"
    }
   ],
   "source": [
    "# Criando o dataframe com as listas criadas\n",
    "df = pd.DataFrame(list(zip(data, produto, preco, marca)), columns = ['Data', 'Produto', 'Preço', 'Marca'])\n",
    "\n",
    "# Checagem\n",
    "df"
   ]
  },
  {
   "cell_type": "markdown",
   "metadata": {},
   "source": [
    "## Criação de arquivo CSV e armazenamento de informações\n",
    "IMPORTANTE: Só pode ser utilizado se o arquivo ainda não existir, ou seja, se for a primeira vez que salvamos a informação diária!"
   ]
  },
  {
   "cell_type": "code",
   "execution_count": 19,
   "metadata": {},
   "outputs": [],
   "source": [
    "# df.to_csv('historico_precos.csv', encoding='utf-8-sig')"
   ]
  },
  {
   "cell_type": "markdown",
   "metadata": {},
   "source": [
    "## Atualização de Preço Diário"
   ]
  },
  {
   "cell_type": "code",
   "execution_count": 25,
   "metadata": {},
   "outputs": [],
   "source": [
    "# Adicionar os dados atualizados de hoje na planilha\n",
    "df.to_csv(\"historico_precos.csv\", mode='a', header=False)"
   ]
  }
 ],
 "metadata": {
  "interpreter": {
   "hash": "b3ba2566441a7c06988d0923437866b63cedc61552a5af99d1f4fb67d367b25f"
  },
  "kernelspec": {
   "display_name": "Python 3.8.8 64-bit ('base': conda)",
   "language": "python",
   "name": "python3"
  },
  "language_info": {
   "codemirror_mode": {
    "name": "ipython",
    "version": 3
   },
   "file_extension": ".py",
   "mimetype": "text/x-python",
   "name": "python",
   "nbconvert_exporter": "python",
   "pygments_lexer": "ipython3",
   "version": "3.8.8"
  },
  "orig_nbformat": 4
 },
 "nbformat": 4,
 "nbformat_minor": 2
}
